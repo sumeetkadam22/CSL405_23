{
 "cells": [
  {
   "cell_type": "markdown",
   "id": "f7520c36-87a3-4b01-b20c-1d7a73cb5f28",
   "metadata": {},
   "source": [
    "#Sumeet Kadam\n",
    "#23"
   ]
  },
  {
   "cell_type": "code",
   "execution_count": 4,
   "id": "4b189e52-9bbd-4dc4-b791-f36fe4b244e8",
   "metadata": {},
   "outputs": [
    {
     "name": "stdout",
     "output_type": "stream",
     "text": [
      "Collecting numpy\n",
      "  Downloading numpy-2.2.4-cp313-cp313-win_amd64.whl.metadata (60 kB)\n",
      "Downloading numpy-2.2.4-cp313-cp313-win_amd64.whl (12.6 MB)\n",
      "   ---------------------------------------- 0.0/12.6 MB ? eta -:--:--\n",
      "   ---- ----------------------------------- 1.6/12.6 MB 7.7 MB/s eta 0:00:02\n",
      "   -------- ------------------------------- 2.6/12.6 MB 6.4 MB/s eta 0:00:02\n",
      "   ------------- -------------------------- 4.2/12.6 MB 6.6 MB/s eta 0:00:02\n",
      "   --------------------- ------------------ 6.8/12.6 MB 8.1 MB/s eta 0:00:01\n",
      "   --------------------------- ------------ 8.7/12.6 MB 8.3 MB/s eta 0:00:01\n",
      "   ---------------------------------- ----- 10.7/12.6 MB 8.6 MB/s eta 0:00:01\n",
      "   ---------------------------------------- 12.6/12.6 MB 9.2 MB/s eta 0:00:00\n",
      "Installing collected packages: numpy\n",
      "Successfully installed numpy-2.2.4\n"
     ]
    }
   ],
   "source": [
    "!pip install numpy\n"
   ]
  },
  {
   "cell_type": "code",
   "execution_count": 5,
   "id": "c14d31c1-46e1-4cd2-b4c7-7ceade3f85b8",
   "metadata": {},
   "outputs": [],
   "source": [
    "import numpy as np\n",
    "\n"
   ]
  },
  {
   "cell_type": "code",
   "execution_count": 6,
   "id": "fb40011c-52e0-4db9-a458-f8aad459dad3",
   "metadata": {},
   "outputs": [
    {
     "name": "stdout",
     "output_type": "stream",
     "text": [
      "1. Array Creation Techniques\n",
      "\n",
      "2. NumPy Methods\n"
     ]
    },
    {
     "data": {
      "text/plain": [
       "array([3])"
      ]
     },
     "execution_count": 6,
     "metadata": {},
     "output_type": "execute_result"
    }
   ],
   "source": [
    "# 1. Array Creation Techniques\n",
    "print(\"1. Array Creation Techniques\")\n",
    "\n",
    "# a. Creating an array from a list\n",
    "array_from_list = np.array([1, 2, 3, 4, 5])\n",
    "array_from_list\n",
    "\n",
    "# b. Using arange()\n",
    "array_arange = np.arange(0, 10, 2)\n",
    "array_arange\n",
    "\n",
    "# c. Using linspace()\n",
    "array_linspace = np.linspace(0, 10, 5)  # Divides 0 to 10 into 5 points\n",
    "array_linspace\n",
    "\n",
    "# d. Using zeros()\n",
    "array_zeros = np.zeros((3, 3))\n",
    "array_zeros\n",
    "\n",
    "# e. Using ones()\n",
    "array_ones = np.ones((2, 2))\n",
    "array_ones\n",
    "\n",
    "# f. Using eye() for identity matrix\n",
    "array_eye = np.eye(3)\n",
    "array_eye\n",
    "\n",
    "# g. Using random() for random values\n",
    "array_random = np.random.random((3, 3))\n",
    "array_random\n",
    "\n",
    "# 2. Different NumPy Methods\n",
    "print(\"\\n2. NumPy Methods\")\n",
    "\n",
    "# a. Reshaping an array\n",
    "reshaped_array = np.arange(1, 10).reshape(3, 3)\n",
    "reshaped_array\n",
    "\n",
    "# b. Transposing an array\n",
    "transposed_array = reshaped_array.T\n",
    "transposed_array\n",
    "\n",
    "# c. Mathematical operations\n",
    "array_math = np.array([1, 2, 3])\n",
    "array_math + 2\n",
    "array_math * 3\n",
    "np.sqrt(array_math)\n",
    "\n",
    "# d. Aggregation methods\n",
    "np.sum(array_math)\n",
    "np.mean(array_math)\n",
    "np.max(array_math)\n",
    "np.min(array_math)\n",
    "\n",
    "# e. Concatenation of arrays\n",
    "array_a = np.array([1, 2, 3])\n",
    "array_b = np.array([4, 5, 6])\n",
    "concat_array = np.concatenate((array_a, array_b))\n",
    "concat_array\n",
    "\n",
    "# f. Sorting an array\n",
    "unsorted_array = np.array([3, 1, 4, 2])\n",
    "sorted_array = np.sort(unsorted_array)\n",
    "sorted_array\n",
    "\n",
    "# g. Indexing and Slicing\n",
    "indexed_value = array_math[1]  # Indexing\n",
    "indexed_value\n",
    "sliced_array = array_math[1:3]  # Slicing\n",
    "sliced_array\n",
    "\n",
    "# h. Boolean Masking\n",
    "boolean_mask = array_math > 2\n",
    "boolean_mask\n",
    "array_math[boolean_mask]"
   ]
  }
 ],
 "metadata": {
  "kernelspec": {
   "display_name": "Python 3 (ipykernel)",
   "language": "python",
   "name": "python3"
  },
  "language_info": {
   "codemirror_mode": {
    "name": "ipython",
    "version": 3
   },
   "file_extension": ".py",
   "mimetype": "text/x-python",
   "name": "python",
   "nbconvert_exporter": "python",
   "pygments_lexer": "ipython3",
   "version": "3.13.2"
  }
 },
 "nbformat": 4,
 "nbformat_minor": 5
}
