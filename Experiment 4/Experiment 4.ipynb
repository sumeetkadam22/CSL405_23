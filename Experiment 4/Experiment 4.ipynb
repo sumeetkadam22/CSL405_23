{
 "cells": [
  {
   "cell_type": "code",
   "execution_count": null,
   "id": "274e5cfe-7f6c-4b07-acb9-e1148d1dee4a",
   "metadata": {},
   "outputs": [],
   "source": [
    "## Sumeet Kadam\n",
    "## 23"
   ]
  },
  {
   "cell_type": "code",
   "execution_count": 1,
   "id": "41c6f390-1ed1-4c80-8dac-95839ebf7b0c",
   "metadata": {},
   "outputs": [
    {
     "name": "stdout",
     "output_type": "stream",
     "text": [
      "Files in the current directory:\n",
      ".angular-config.json\n",
      ".bash_history\n",
      ".condarc\n",
      ".emulator_console_auth_token\n",
      ".gitconfig\n",
      ".lesshst\n",
      ".node_repl_history\n",
      "dgfh.py\n",
      "experiment 3.ipynb\n",
      "experiment2.ipynb\n",
      "file.txt\n",
      "listingDirectories.py\n",
      "main.py\n",
      "NTUSER.DAT\n",
      "ntuser.dat.LOG1\n",
      "ntuser.dat.LOG2\n",
      "NTUSER.DAT{a2332f17-cdbf-11ec-8680-002248483d79}.TxR.0.regtrans-ms\n",
      "NTUSER.DAT{a2332f17-cdbf-11ec-8680-002248483d79}.TxR.1.regtrans-ms\n",
      "NTUSER.DAT{a2332f17-cdbf-11ec-8680-002248483d79}.TxR.2.regtrans-ms\n",
      "NTUSER.DAT{a2332f17-cdbf-11ec-8680-002248483d79}.TxR.blf\n",
      "NTUSER.DAT{a2332f18-cdbf-11ec-8680-002248483d79}.TM.blf\n",
      "NTUSER.DAT{a2332f18-cdbf-11ec-8680-002248483d79}.TMContainer00000000000000000001.regtrans-ms\n",
      "NTUSER.DAT{a2332f18-cdbf-11ec-8680-002248483d79}.TMContainer00000000000000000002.regtrans-ms\n",
      "ntuser.ini\n",
      "README.md\n",
      "SqlViewerHistory.props\n",
      "tut.py\n",
      "Untitled.ipynb\n",
      "Untitled1.ipynb\n",
      "Untitled2.ipynb\n",
      "weka.log\n"
     ]
    }
   ],
   "source": [
    "from pathlib import Path\n",
    "\n",
    "# Get a list of all files in the current directory\n",
    "files = [f for f in Path('.').iterdir() if f.is_file()]\n",
    "\n",
    "print(\"Files in the current directory:\")\n",
    "for file in files:\n",
    "    print(file.name)\n"
   ]
  },
  {
   "cell_type": "code",
   "execution_count": null,
   "id": "b3e574e3-fe2e-4348-9343-c64d2ecf42ec",
   "metadata": {},
   "outputs": [],
   "source": []
  }
 ],
 "metadata": {
  "kernelspec": {
   "display_name": "Python 3 (ipykernel)",
   "language": "python",
   "name": "python3"
  },
  "language_info": {
   "codemirror_mode": {
    "name": "ipython",
    "version": 3
   },
   "file_extension": ".py",
   "mimetype": "text/x-python",
   "name": "python",
   "nbconvert_exporter": "python",
   "pygments_lexer": "ipython3",
   "version": "3.13.1"
  }
 },
 "nbformat": 4,
 "nbformat_minor": 5
}
