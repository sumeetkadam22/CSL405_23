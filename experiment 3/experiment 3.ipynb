{
 "cells": [
  {
   "cell_type": "markdown",
   "id": "fece8ede-b0b1-4c22-8006-e2fe2ca12063",
   "metadata": {},
   "source": [
    "### Sumeet Kadam\n",
    "### 23"
   ]
  },
  {
   "cell_type": "code",
   "execution_count": 3,
   "id": "ebe3b387-f52f-4da7-8617-fcaf48ae913d",
   "metadata": {},
   "outputs": [
    {
     "name": "stdout",
     "output_type": "stream",
     "text": [
      "Lines: 2\n",
      "Words: 45\n",
      "Characters: 287\n"
     ]
    }
   ],
   "source": [
    "if __name__ == '__main__':\n",
    "    with open ('./file.txt', 'r') as file:\n",
    "        lines = file.readlines ()\n",
    "        numberOfLines = len (lines)\n",
    "        numberOfWords = sum (len (line.split()) for line in lines)\n",
    "        \n",
    "        # Write numberOfCharacters over here.\n",
    "        numberOfCharacters = sum(len(line) for line in lines)\n",
    "        \n",
    "    print(f\"Lines: {numberOfLines}\")\n",
    "    print(f\"Words: {numberOfWords}\")\n",
    "    print(f\"Characters: {numberOfCharacters}\")"
   ]
  },
  {
   "cell_type": "code",
   "execution_count": null,
   "id": "bede7ad6-954d-48ed-b087-d0ed276d14bf",
   "metadata": {},
   "outputs": [],
   "source": []
  }
 ],
 "metadata": {
  "kernelspec": {
   "display_name": "Python 3 (ipykernel)",
   "language": "python",
   "name": "python3"
  },
  "language_info": {
   "codemirror_mode": {
    "name": "ipython",
    "version": 3
   },
   "file_extension": ".py",
   "mimetype": "text/x-python",
   "name": "python",
   "nbconvert_exporter": "python",
   "pygments_lexer": "ipython3",
   "version": "3.13.1"
  }
 },
 "nbformat": 4,
 "nbformat_minor": 5
}
