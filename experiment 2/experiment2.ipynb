{
 "cells": [
  {
   "cell_type": "code",
   "execution_count": 4,
   "id": "d70374d4-5909-4828-8b06-a3463c216bc3",
   "metadata": {},
   "outputs": [
    {
     "name": "stdout",
     "output_type": "stream",
     "text": [
      "Fullstack\n",
      "frontend\n",
      "backend\n",
      "not a developer\n"
     ]
    }
   ],
   "source": [
    "'''\n",
    "General case represents that developer working on \n",
    "frontend cannot work backend development unless he/she is fullstack dev.\n",
    "\n",
    "Write a method named verifier () that checks this condition.\n",
    "\n",
    "The method should check that if frontend is True and backend is True,\n",
    "the method returns Fullstack as string. If one of them is True, it should return\n",
    "the respective desgination, and if none of them are true, it returns,\n",
    "not a developer respetively.\n",
    "'''\n",
    "\n",
    "class Employee:\n",
    "    def __init__ (\n",
    "            self,\n",
    "            designation : str = 'Developer',\n",
    "            frontend : bool = False,\n",
    "            backend : bool = False\n",
    "    ):\n",
    "        self.designation = designation\n",
    "        self.frontend = frontend\n",
    "        self.backend = backend\n",
    "\n",
    "    def __repr__ (self):\n",
    "        return '{}'.format (self.designation, self.frontend, self.backend)\n",
    "    \n",
    "    ### Write the your method over here.\n",
    "    def verifier (self):\n",
    "         if self.frontend and self.backend:\n",
    "            return 'Fullstack'\n",
    "         elif self.frontend:\n",
    "             return 'frontend'\n",
    "         elif self.backend:\n",
    "             return 'backend'\n",
    "         else:\n",
    "             return 'not a developer'\n",
    "             \n",
    "        \n",
    "\n",
    "if __name__ == '__main__':\n",
    "    firstEmployee = Employee(frontend=True, backend=True)\n",
    "    print(firstEmployee.verifier())\n",
    "\n",
    "    secondEmployee = Employee(frontend=True, backend=False)\n",
    "    print(secondEmployee.verifier())\n",
    "\n",
    "    thirdEmployee = Employee(frontend=False, backend=True)\n",
    "    print(thirdEmployee.verifier())\n",
    "\n",
    "    fourthEmployee = Employee(frontend=False, backend=False)\n",
    "    print(fourthEmployee.verifier())\n",
    "      \n",
    "\n",
    "    # Call the method here to display output.\n"
   ]
  },
  {
   "cell_type": "code",
   "execution_count": null,
   "id": "9ca1633b-4509-4858-b9e7-5c2f3e3e5321",
   "metadata": {},
   "outputs": [],
   "source": []
  }
 ],
 "metadata": {
  "kernelspec": {
   "display_name": "Python 3 (ipykernel)",
   "language": "python",
   "name": "python3"
  },
  "language_info": {
   "codemirror_mode": {
    "name": "ipython",
    "version": 3
   },
   "file_extension": ".py",
   "mimetype": "text/x-python",
   "name": "python",
   "nbconvert_exporter": "python",
   "pygments_lexer": "ipython3",
   "version": "3.13.1"
  }
 },
 "nbformat": 4,
 "nbformat_minor": 5
}
