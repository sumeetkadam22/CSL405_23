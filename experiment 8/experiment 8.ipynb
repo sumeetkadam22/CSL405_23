{
 "cells": [
  {
   "cell_type": "markdown",
   "id": "598963a8-2295-4065-8104-f47978be88fe",
   "metadata": {},
   "source": [
    "#Sumeet Kadam\n",
    "#23"
   ]
  },
  {
   "cell_type": "code",
   "execution_count": 1,
   "id": "b090ab69-9b34-4211-85a1-d01dd6f6c43a",
   "metadata": {},
   "outputs": [
    {
     "name": "stdout",
     "output_type": "stream",
     "text": [
      "Thread 1 - Number: 1\n",
      "Thread 2 - Letter: A\n",
      "Thread 3 - Square of 1: 1\n",
      "Thread 1 - Number: 2\n",
      "Thread 2 - Letter: B\n",
      "Thread 3 - Square of 2: 4\n",
      "Thread 1 - Number: 3\n",
      "Thread 2 - Letter: C\n",
      "Thread 3 - Square of 3: 9\n",
      "Thread 1 - Number: 4\n",
      "Thread 3 - Square of 4: 16\n",
      "Thread 2 - Letter: D\n",
      "Thread 1 - Number: 5\n",
      "Thread 2 - Letter: E\n",
      "Thread 3 - Square of 5: 25\n",
      "All threads have finished executing.\n"
     ]
    }
   ],
   "source": [
    "import threading\n",
    "import time\n",
    "\n",
    "def print_numbers():\n",
    "    for i in range(1, 6):\n",
    "        print(f\"Thread 1 - Number: {i}\")\n",
    "        time.sleep(1)\n",
    "\n",
    "def print_letters():\n",
    "    for letter in 'ABCDE':\n",
    "        print(f\"Thread 2 - Letter: {letter}\")\n",
    "        time.sleep(1)\n",
    "\n",
    "def print_squares():\n",
    "    for i in range(1, 6):\n",
    "        print(f\"Thread 3 - Square of {i}: {i ** 2}\")\n",
    "        time.sleep(1)\n",
    "\n",
    "# Creating threads\n",
    "thread1 = threading.Thread(target=print_numbers)\n",
    "thread2 = threading.Thread(target=print_letters)\n",
    "thread3 = threading.Thread(target=print_squares)\n",
    "\n",
    "# Starting threads\n",
    "thread1.start()\n",
    "thread2.start()\n",
    "thread3.start()\n",
    "\n",
    "# Ensuring all threads complete\n",
    "thread1.join()\n",
    "thread2.join()\n",
    "thread3.join()\n",
    "\n",
    "print(\"All threads have finished executing.\")"
   ]
  },
  {
   "cell_type": "code",
   "execution_count": null,
   "id": "2cbcb64e-7a76-45c9-ab02-eb857d51810e",
   "metadata": {},
   "outputs": [],
   "source": []
  }
 ],
 "metadata": {
  "kernelspec": {
   "display_name": "Python 3 (ipykernel)",
   "language": "python",
   "name": "python3"
  },
  "language_info": {
   "codemirror_mode": {
    "name": "ipython",
    "version": 3
   },
   "file_extension": ".py",
   "mimetype": "text/x-python",
   "name": "python",
   "nbconvert_exporter": "python",
   "pygments_lexer": "ipython3",
   "version": "3.13.1"
  }
 },
 "nbformat": 4,
 "nbformat_minor": 5
}
